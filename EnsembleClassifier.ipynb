{
 "cells": [
  {
   "cell_type": "code",
   "execution_count": 44,
   "metadata": {},
   "outputs": [],
   "source": [
    "# Author - binaryRahul\n",
    "# Github - https://github.com/Rahulsingh1939\n",
    "import pandas as pd\n",
    "import numpy as np\n",
    "import matplotlib.pyplot as plt"
   ]
  },
  {
   "cell_type": "markdown",
   "metadata": {},
   "source": [
    "**Bagging** ( or Bootstrap Aggregation), is a simple and very powerful ensemble method. Bagging is the application of the Bootstrap procedure to a high-variance machine learning algorithm, typically decision trees.\n",
    "\n",
    "The idea behind bagging is combining the results of multiple models (for instance, all decision trees) to get a generalized result. Now, bootstrapping comes into picture.\n",
    "\n",
    "Bagging (or Bootstrap Aggregating) technique uses these subsets (bags) to get a fair idea of the distribution (complete set). The size of subsets created for bagging may be less than the original set.\n",
    "\n",
    "Bagging works as follows:-\n",
    "\n",
    "Multiple subsets are created from the original dataset, selecting observations with replacement.\n",
    "\n",
    "A base model (weak model) is created on each of these subsets.\n",
    "\n",
    "The models run in parallel and are independent of each other.\n",
    "\n",
    "The final predictions are determined by combining the predictions from all the models."
   ]
  },
  {
   "cell_type": "code",
   "execution_count": null,
   "metadata": {},
   "outputs": [],
   "source": [
    "# Only For Google Colab\n",
    "from google.colab import drive\n",
    "drive.mount(\"/content/drive\")\n",
    "df=pd.read_csv(\"/content/drive/MyDrive/ColabNotebooks/water_potability.csv\")"
   ]
  },
  {
   "cell_type": "markdown",
   "metadata": {},
   "source": [
    "**Boosting** is a sequential process, where each subsequent model attempts to correct the errors of the previous model. The succeeding models are dependent on the previous model.\n",
    "\n",
    "In this technique, learners are learned sequentially with early learners fitting simple models to the data and then analyzing data for errors. In other words, we fit consecutive trees (random sample) and at every step, the goal is to solve for net error from the prior tree.\n",
    "\n",
    "When an input is misclassified by a hypothesis, its weight is increased so that next hypothesis is more likely to classify it correctly. By combining the whole set at the end converts weak learners into better performing model.\n",
    "\n",
    "Let’s understand the way boosting works in the below steps.\n",
    "\n",
    "A subset is created from the original dataset.\n",
    "\n",
    "Initially, all data points are given equal weights.\n",
    "\n",
    "A base model is created on this subset.\n",
    "\n",
    "This model is used to make predictions on the whole dataset."
   ]
  },
  {
   "cell_type": "code",
   "execution_count": 45,
   "metadata": {},
   "outputs": [],
   "source": [
    "df=pd.read_csv('water_potability.csv')"
   ]
  },
  {
   "cell_type": "code",
   "execution_count": 46,
   "metadata": {},
   "outputs": [
    {
     "data": {
      "text/html": [
       "<div>\n",
       "<style scoped>\n",
       "    .dataframe tbody tr th:only-of-type {\n",
       "        vertical-align: middle;\n",
       "    }\n",
       "\n",
       "    .dataframe tbody tr th {\n",
       "        vertical-align: top;\n",
       "    }\n",
       "\n",
       "    .dataframe thead th {\n",
       "        text-align: right;\n",
       "    }\n",
       "</style>\n",
       "<table border=\"1\" class=\"dataframe\">\n",
       "  <thead>\n",
       "    <tr style=\"text-align: right;\">\n",
       "      <th></th>\n",
       "      <th>ph</th>\n",
       "      <th>Hardness</th>\n",
       "      <th>Solids</th>\n",
       "      <th>Chloramines</th>\n",
       "      <th>Sulfate</th>\n",
       "      <th>Conductivity</th>\n",
       "      <th>Organic_carbon</th>\n",
       "      <th>Trihalomethanes</th>\n",
       "      <th>Turbidity</th>\n",
       "      <th>Potability</th>\n",
       "    </tr>\n",
       "  </thead>\n",
       "  <tbody>\n",
       "    <tr>\n",
       "      <th>0</th>\n",
       "      <td>NaN</td>\n",
       "      <td>204.890455</td>\n",
       "      <td>20791.318981</td>\n",
       "      <td>7.300212</td>\n",
       "      <td>368.516441</td>\n",
       "      <td>564.308654</td>\n",
       "      <td>10.379783</td>\n",
       "      <td>86.990970</td>\n",
       "      <td>2.963135</td>\n",
       "      <td>0</td>\n",
       "    </tr>\n",
       "    <tr>\n",
       "      <th>1</th>\n",
       "      <td>3.716080</td>\n",
       "      <td>129.422921</td>\n",
       "      <td>18630.057858</td>\n",
       "      <td>6.635246</td>\n",
       "      <td>NaN</td>\n",
       "      <td>592.885359</td>\n",
       "      <td>15.180013</td>\n",
       "      <td>56.329076</td>\n",
       "      <td>4.500656</td>\n",
       "      <td>0</td>\n",
       "    </tr>\n",
       "    <tr>\n",
       "      <th>2</th>\n",
       "      <td>8.099124</td>\n",
       "      <td>224.236259</td>\n",
       "      <td>19909.541732</td>\n",
       "      <td>9.275884</td>\n",
       "      <td>NaN</td>\n",
       "      <td>418.606213</td>\n",
       "      <td>16.868637</td>\n",
       "      <td>66.420093</td>\n",
       "      <td>3.055934</td>\n",
       "      <td>0</td>\n",
       "    </tr>\n",
       "    <tr>\n",
       "      <th>3</th>\n",
       "      <td>8.316766</td>\n",
       "      <td>214.373394</td>\n",
       "      <td>22018.417441</td>\n",
       "      <td>8.059332</td>\n",
       "      <td>356.886136</td>\n",
       "      <td>363.266516</td>\n",
       "      <td>18.436524</td>\n",
       "      <td>100.341674</td>\n",
       "      <td>4.628771</td>\n",
       "      <td>0</td>\n",
       "    </tr>\n",
       "    <tr>\n",
       "      <th>4</th>\n",
       "      <td>9.092223</td>\n",
       "      <td>181.101509</td>\n",
       "      <td>17978.986339</td>\n",
       "      <td>6.546600</td>\n",
       "      <td>310.135738</td>\n",
       "      <td>398.410813</td>\n",
       "      <td>11.558279</td>\n",
       "      <td>31.997993</td>\n",
       "      <td>4.075075</td>\n",
       "      <td>0</td>\n",
       "    </tr>\n",
       "  </tbody>\n",
       "</table>\n",
       "</div>"
      ],
      "text/plain": [
       "         ph    Hardness        Solids  Chloramines     Sulfate  Conductivity  \\\n",
       "0       NaN  204.890455  20791.318981     7.300212  368.516441    564.308654   \n",
       "1  3.716080  129.422921  18630.057858     6.635246         NaN    592.885359   \n",
       "2  8.099124  224.236259  19909.541732     9.275884         NaN    418.606213   \n",
       "3  8.316766  214.373394  22018.417441     8.059332  356.886136    363.266516   \n",
       "4  9.092223  181.101509  17978.986339     6.546600  310.135738    398.410813   \n",
       "\n",
       "   Organic_carbon  Trihalomethanes  Turbidity  Potability  \n",
       "0       10.379783        86.990970   2.963135           0  \n",
       "1       15.180013        56.329076   4.500656           0  \n",
       "2       16.868637        66.420093   3.055934           0  \n",
       "3       18.436524       100.341674   4.628771           0  \n",
       "4       11.558279        31.997993   4.075075           0  "
      ]
     },
     "execution_count": 46,
     "metadata": {},
     "output_type": "execute_result"
    }
   ],
   "source": [
    "df.head()"
   ]
  },
  {
   "cell_type": "code",
   "execution_count": 47,
   "metadata": {},
   "outputs": [
    {
     "data": {
      "text/plain": [
       "ph                 491\n",
       "Hardness             0\n",
       "Solids               0\n",
       "Chloramines          0\n",
       "Sulfate            781\n",
       "Conductivity         0\n",
       "Organic_carbon       0\n",
       "Trihalomethanes    162\n",
       "Turbidity            0\n",
       "Potability           0\n",
       "dtype: int64"
      ]
     },
     "execution_count": 47,
     "metadata": {},
     "output_type": "execute_result"
    }
   ],
   "source": [
    "df.isna().sum()"
   ]
  },
  {
   "cell_type": "code",
   "execution_count": 48,
   "metadata": {},
   "outputs": [
    {
     "name": "stdout",
     "output_type": "stream",
     "text": [
      "<class 'pandas.core.frame.DataFrame'>\n",
      "RangeIndex: 3276 entries, 0 to 3275\n",
      "Data columns (total 10 columns):\n",
      " #   Column           Non-Null Count  Dtype  \n",
      "---  ------           --------------  -----  \n",
      " 0   ph               2785 non-null   float64\n",
      " 1   Hardness         3276 non-null   float64\n",
      " 2   Solids           3276 non-null   float64\n",
      " 3   Chloramines      3276 non-null   float64\n",
      " 4   Sulfate          2495 non-null   float64\n",
      " 5   Conductivity     3276 non-null   float64\n",
      " 6   Organic_carbon   3276 non-null   float64\n",
      " 7   Trihalomethanes  3114 non-null   float64\n",
      " 8   Turbidity        3276 non-null   float64\n",
      " 9   Potability       3276 non-null   int64  \n",
      "dtypes: float64(9), int64(1)\n",
      "memory usage: 256.1 KB\n"
     ]
    }
   ],
   "source": [
    "df.info()"
   ]
  },
  {
   "cell_type": "code",
   "execution_count": 49,
   "metadata": {},
   "outputs": [
    {
     "name": "stdout",
     "output_type": "stream",
     "text": [
      "ph \n",
      "\n",
      "Impotable:\n",
      "\n",
      " count    1684.000000\n",
      "mean        7.085378\n",
      "std         1.683499\n",
      "min         0.000000\n",
      "25%         6.037723\n",
      "50%         7.035456\n",
      "75%         8.155510\n",
      "max        14.000000\n",
      "Name: ph, dtype: float64 \n",
      "\n",
      "Potable:\n",
      "\n",
      " count    1101.000000\n",
      "mean        7.073783\n",
      "std         1.448048\n",
      "min         0.227499\n",
      "25%         6.179312\n",
      "50%         7.036752\n",
      "75%         7.933068\n",
      "max        13.175402\n",
      "Name: ph, dtype: float64\n",
      "\n",
      "Sulfate \n",
      "\n",
      "Impotable:\n",
      "\n",
      " count    1510.000000\n",
      "mean      334.564290\n",
      "std        36.745549\n",
      "min       203.444521\n",
      "25%       311.264006\n",
      "50%       333.389426\n",
      "75%       356.853897\n",
      "max       460.107069\n",
      "Name: Sulfate, dtype: float64 \n",
      "\n",
      "Potable:\n",
      "\n",
      " count    985.000000\n",
      "mean     332.566990\n",
      "std       47.692818\n",
      "min      129.000000\n",
      "25%      300.763772\n",
      "50%      331.838167\n",
      "75%      365.941346\n",
      "max      481.030642\n",
      "Name: Sulfate, dtype: float64\n",
      "\n",
      "Trihalomethanes \n",
      "\n",
      "Impotable:\n",
      "\n",
      " count    1891.000000\n",
      "mean       66.303555\n",
      "std        16.079320\n",
      "min         0.738000\n",
      "25%        55.706530\n",
      "50%        66.542198\n",
      "75%        77.277704\n",
      "max       120.030077\n",
      "Name: Trihalomethanes, dtype: float64 \n",
      "\n",
      "Potable:\n",
      "\n",
      " count    1223.000000\n",
      "mean       66.539684\n",
      "std        16.327419\n",
      "min         8.175876\n",
      "25%        56.014249\n",
      "50%        66.678214\n",
      "75%        77.380975\n",
      "max       124.000000\n",
      "Name: Trihalomethanes, dtype: float64\n",
      "\n"
     ]
    }
   ],
   "source": [
    "null_cols = ['ph','Sulfate','Trihalomethanes']\n",
    "for col in null_cols:\n",
    "    print(col,'\\n\\nImpotable:\\n\\n',df[df[\"Potability\"]==0][col].describe(),'\\n\\nPotable:\\n\\n',df[df[\"Potability\"]==1][col].describe(),end='\\n\\n')"
   ]
  },
  {
   "cell_type": "code",
   "execution_count": 50,
   "metadata": {},
   "outputs": [
    {
     "name": "stdout",
     "output_type": "stream",
     "text": [
      "<class 'pandas.core.frame.DataFrame'>\n",
      "RangeIndex: 3276 entries, 0 to 3275\n",
      "Data columns (total 10 columns):\n",
      " #   Column           Non-Null Count  Dtype  \n",
      "---  ------           --------------  -----  \n",
      " 0   ph               3276 non-null   float64\n",
      " 1   Hardness         3276 non-null   float64\n",
      " 2   Solids           3276 non-null   float64\n",
      " 3   Chloramines      3276 non-null   float64\n",
      " 4   Sulfate          3276 non-null   float64\n",
      " 5   Conductivity     3276 non-null   float64\n",
      " 6   Organic_carbon   3276 non-null   float64\n",
      " 7   Trihalomethanes  3276 non-null   float64\n",
      " 8   Turbidity        3276 non-null   float64\n",
      " 9   Potability       3276 non-null   int64  \n",
      "dtypes: float64(9), int64(1)\n",
      "memory usage: 256.1 KB\n"
     ]
    },
    {
     "name": "stderr",
     "output_type": "stream",
     "text": [
      "C:\\Users\\Rahul's PC\\AppData\\Local\\Temp\\ipykernel_17888\\3244238310.py:5: FutureWarning: A value is trying to be set on a copy of a DataFrame or Series through chained assignment using an inplace method.\n",
      "The behavior will change in pandas 3.0. This inplace method will never work because the intermediate object on which we are setting values always behaves as a copy.\n",
      "\n",
      "For example, when doing 'df[col].method(value, inplace=True)', try using 'df.method({col: value}, inplace=True)' or df[col] = df[col].method(value) instead, to perform the operation inplace on the original object.\n",
      "\n",
      "\n",
      "  df[col].fillna(df[col].mean(), inplace=True)\n"
     ]
    }
   ],
   "source": [
    "mask1 = df['Potability']==0\n",
    "mask2 = df['Potability']==1\n",
    "for col in null_cols:\n",
    "    if col!='Sulfate':\n",
    "        df[col].fillna(df[col].mean(), inplace=True)\n",
    "    else:\n",
    "        df.loc[mask1,col] = df.loc[mask1,col].fillna(df.loc[mask1, col].mean())\n",
    "        df.loc[mask2,col] = df.loc[mask2,col].fillna(df.loc[mask2, col].mean())\n",
    "\n",
    "df.info()"
   ]
  },
  {
   "cell_type": "code",
   "execution_count": 51,
   "metadata": {},
   "outputs": [
    {
     "data": {
      "text/html": [
       "<div>\n",
       "<style scoped>\n",
       "    .dataframe tbody tr th:only-of-type {\n",
       "        vertical-align: middle;\n",
       "    }\n",
       "\n",
       "    .dataframe tbody tr th {\n",
       "        vertical-align: top;\n",
       "    }\n",
       "\n",
       "    .dataframe thead th {\n",
       "        text-align: right;\n",
       "    }\n",
       "</style>\n",
       "<table border=\"1\" class=\"dataframe\">\n",
       "  <thead>\n",
       "    <tr style=\"text-align: right;\">\n",
       "      <th></th>\n",
       "      <th>ph</th>\n",
       "      <th>Hardness</th>\n",
       "      <th>Solids</th>\n",
       "      <th>Chloramines</th>\n",
       "      <th>Sulfate</th>\n",
       "      <th>Conductivity</th>\n",
       "      <th>Organic_carbon</th>\n",
       "      <th>Trihalomethanes</th>\n",
       "      <th>Turbidity</th>\n",
       "      <th>Potability</th>\n",
       "    </tr>\n",
       "  </thead>\n",
       "  <tbody>\n",
       "    <tr>\n",
       "      <th>0</th>\n",
       "      <td>7</td>\n",
       "      <td>205</td>\n",
       "      <td>20791</td>\n",
       "      <td>7</td>\n",
       "      <td>564</td>\n",
       "      <td>564.308654</td>\n",
       "      <td>10</td>\n",
       "      <td>87</td>\n",
       "      <td>3</td>\n",
       "      <td>0</td>\n",
       "    </tr>\n",
       "    <tr>\n",
       "      <th>1</th>\n",
       "      <td>4</td>\n",
       "      <td>129</td>\n",
       "      <td>18630</td>\n",
       "      <td>7</td>\n",
       "      <td>593</td>\n",
       "      <td>592.885359</td>\n",
       "      <td>15</td>\n",
       "      <td>56</td>\n",
       "      <td>5</td>\n",
       "      <td>0</td>\n",
       "    </tr>\n",
       "    <tr>\n",
       "      <th>2</th>\n",
       "      <td>8</td>\n",
       "      <td>224</td>\n",
       "      <td>19910</td>\n",
       "      <td>9</td>\n",
       "      <td>419</td>\n",
       "      <td>418.606213</td>\n",
       "      <td>17</td>\n",
       "      <td>66</td>\n",
       "      <td>3</td>\n",
       "      <td>0</td>\n",
       "    </tr>\n",
       "    <tr>\n",
       "      <th>3</th>\n",
       "      <td>8</td>\n",
       "      <td>214</td>\n",
       "      <td>22018</td>\n",
       "      <td>8</td>\n",
       "      <td>363</td>\n",
       "      <td>363.266516</td>\n",
       "      <td>18</td>\n",
       "      <td>100</td>\n",
       "      <td>5</td>\n",
       "      <td>0</td>\n",
       "    </tr>\n",
       "    <tr>\n",
       "      <th>4</th>\n",
       "      <td>9</td>\n",
       "      <td>181</td>\n",
       "      <td>17979</td>\n",
       "      <td>7</td>\n",
       "      <td>398</td>\n",
       "      <td>398.410813</td>\n",
       "      <td>12</td>\n",
       "      <td>32</td>\n",
       "      <td>4</td>\n",
       "      <td>0</td>\n",
       "    </tr>\n",
       "  </tbody>\n",
       "</table>\n",
       "</div>"
      ],
      "text/plain": [
       "   ph  Hardness  Solids  Chloramines  Sulfate  Conductivity  Organic_carbon  \\\n",
       "0   7       205   20791            7      564    564.308654              10   \n",
       "1   4       129   18630            7      593    592.885359              15   \n",
       "2   8       224   19910            9      419    418.606213              17   \n",
       "3   8       214   22018            8      363    363.266516              18   \n",
       "4   9       181   17979            7      398    398.410813              12   \n",
       "\n",
       "   Trihalomethanes  Turbidity  Potability  \n",
       "0               87          3           0  \n",
       "1               56          5           0  \n",
       "2               66          3           0  \n",
       "3              100          5           0  \n",
       "4               32          4           0  "
      ]
     },
     "execution_count": 51,
     "metadata": {},
     "output_type": "execute_result"
    }
   ],
   "source": [
    "df['ph'] = df['ph'].round().astype(int)\n",
    "df['Hardness'] = df['Hardness'].round().astype(int)\n",
    "df['Solids'] = df['Solids'].round().astype(int)\n",
    "df['Chloramines'] = df['Chloramines'].round().astype(int)\n",
    "df['Sulfate'] = df['Conductivity'].round().astype(int)\n",
    "df['Organic_carbon'] = df['Organic_carbon'].round().astype(int)\n",
    "df['Trihalomethanes'] = df['Trihalomethanes'].round().astype(int)\n",
    "df['Turbidity'] = df['Turbidity'].round().astype(int)\n",
    "df.head()"
   ]
  },
  {
   "cell_type": "code",
   "execution_count": 52,
   "metadata": {},
   "outputs": [],
   "source": [
    "X=df.iloc[:,:-1].values\n",
    "Y=df.iloc[:,9].values"
   ]
  },
  {
   "cell_type": "code",
   "execution_count": 53,
   "metadata": {},
   "outputs": [],
   "source": [
    "from sklearn.model_selection import train_test_split\n",
    "X_train, X_Test, Y_train, Y_Test = train_test_split(X,Y, test_size=0.2,random_state=42)"
   ]
  },
  {
   "cell_type": "code",
   "execution_count": 54,
   "metadata": {},
   "outputs": [],
   "source": [
    "from sklearn.preprocessing import StandardScaler\n",
    "scaler = StandardScaler()\n",
    "scaler.fit(X_train)\n",
    "X_train=scaler.fit_transform(X_train)\n",
    "X_Test=scaler.fit_transform(X_Test)"
   ]
  },
  {
   "cell_type": "code",
   "execution_count": 55,
   "metadata": {},
   "outputs": [],
   "source": [
    "from sklearn.ensemble import RandomForestClassifier\n",
    "from sklearn.tree import DecisionTreeClassifier\n",
    "from sklearn.neighbors import KNeighborsClassifier\n",
    "from sklearn.ensemble import BaggingClassifier\n",
    "from sklearn.metrics import accuracy_score,classification_report,ConfusionMatrixDisplay,precision_score,recall_score,f1_score"
   ]
  },
  {
   "cell_type": "code",
   "execution_count": 56,
   "metadata": {},
   "outputs": [],
   "source": [
    "models={\n",
    "    \"K-Nearest Neighbors\": KNeighborsClassifier(),\n",
    "    \"Decision Tree\": DecisionTreeClassifier(),\n",
    "    \"Random Forest\": RandomForestClassifier(),\n",
    "}"
   ]
  },
  {
   "cell_type": "code",
   "execution_count": 62,
   "metadata": {},
   "outputs": [
    {
     "name": "stdout",
     "output_type": "stream",
     "text": [
      "K-Nearest Neighbors\n",
      "model performance for test set\n",
      "accuracy:0.5915\n",
      "f1 score:0.5810\n",
      "precision: 0.4394\n",
      "recall: 0.3566\n",
      "===================================\n",
      "Decision Tree\n",
      "model performance for test set\n",
      "accuracy:0.5686\n",
      "f1 score:0.5677\n",
      "precision: 0.4184\n",
      "recall: 0.4098\n",
      "===================================\n",
      "Random Forest\n",
      "model performance for test set\n",
      "accuracy:0.6326\n",
      "f1 score:0.6030\n",
      "precision: 0.5108\n",
      "recall: 0.2910\n",
      "===================================\n",
      "\n",
      "\n"
     ]
    }
   ],
   "source": [
    "accuracyMet=[]\n",
    "bagging_model = BaggingClassifier(n_estimators=10, random_state=42)  # DecisionTree is the default base estimator\n",
    "bagging_model.fit(X_train, Y_train)\n",
    "for i in range(len(list(models))):\n",
    "  model=list(models.values())[i]\n",
    "  model.fit(X_train,Y_train)\n",
    "  y_test_pred = model.predict(X_Test)\n",
    "  #test-Score-Calculations\n",
    "  model_accuracy = accuracy_score(Y_Test,y_test_pred)\n",
    "  accuracyMet.append(model_accuracy)\n",
    "  model_f1=f1_score(Y_Test,y_test_pred,average='weighted')\n",
    "  model_precision=precision_score(Y_Test,y_test_pred)\n",
    "  model_recall=recall_score(Y_Test,y_test_pred)\n",
    "  print(list(models.keys())[i])\n",
    "  print(\"model performance for test set\")\n",
    "  print(\"accuracy:{:.4f}\".format(model_accuracy))\n",
    "  print('f1 score:{:.4f}'.format(model_f1))\n",
    "  print('precision: {:.4f}'.format(model_precision))\n",
    "  print('recall: {:.4f}'.format(model_recall))\n",
    "  print('='*35)\n",
    "print('\\n')"
   ]
  },
  {
   "cell_type": "code",
   "execution_count": 63,
   "metadata": {},
   "outputs": [
    {
     "data": {
      "image/png": "[encoded data removed]",
      "text/plain": [
       "<Figure size 640x480 with 1 Axes>"
      ]
     },
     "metadata": {},
     "output_type": "display_data"
    }
   ],
   "source": [
    "ModelsList=[\"K-Nearest Neighbors\",\"Decision Tree\",\"Random Forest\"]\n",
    "plt.plot(ModelsList, accuracyMet, marker='o')\n",
    "plt.xlabel('Name of Model')\n",
    "plt.ylabel('Accuracy')\n",
    "plt.show()"
   ]
  },
  {
   "cell_type": "code",
   "execution_count": 64,
   "metadata": {},
   "outputs": [
    {
     "name": "stdout",
     "output_type": "stream",
     "text": [
      "0.6219512195121951\n"
     ]
    }
   ],
   "source": [
    "from sklearn.naive_bayes import GaussianNB\n",
    "nn = GaussianNB()\n",
    "nn.fit(X_train,Y_train)\n",
    "y_pred = nn.predict(X_Test)\n",
    "print(accuracy_score(y_pred,Y_Test))"
   ]
  },
  {
   "cell_type": "code",
   "execution_count": 65,
   "metadata": {},
   "outputs": [
    {
     "name": "stdout",
     "output_type": "stream",
     "text": [
      "0.6097560975609756\n"
     ]
    }
   ],
   "source": [
    "from sklearn.ensemble import RandomForestClassifier\n",
    "rfc = RandomForestClassifier()\n",
    "rfc.fit(X_train,Y_train)\n",
    "y_pred = rfc.predict(X_Test)\n",
    "print(accuracy_score(y_pred,Y_Test))"
   ]
  },
  {
   "cell_type": "markdown",
   "metadata": {},
   "source": [
    "Using Boosting Technique"
   ]
  },
  {
   "cell_type": "code",
   "execution_count": 66,
   "metadata": {},
   "outputs": [
    {
     "name": "stderr",
     "output_type": "stream",
     "text": [
      "c:\\Users\\Rahul's PC\\AppData\\Local\\Programs\\Python\\Python311\\Lib\\site-packages\\sklearn\\ensemble\\_weight_boosting.py:519: FutureWarning: The SAMME.R algorithm (the default) is deprecated and will be removed in 1.6. Use the SAMME algorithm to circumvent this warning.\n",
      "  warnings.warn(\n"
     ]
    },
    {
     "name": "stdout",
     "output_type": "stream",
     "text": [
      "Ensemble model performance for the test set\n",
      "accuracy: 0.6235\n",
      "f1 score: 0.5543\n",
      "precision: 0.4795\n",
      "recall: 0.1434\n"
     ]
    }
   ],
   "source": [
    "# Using Voting Classifier\n",
    "from sklearn.ensemble import VotingClassifier,GradientBoostingClassifier,AdaBoostClassifier,RandomForestClassifier\n",
    "# create the sub models\n",
    "estimators = []\n",
    "model1 = AdaBoostClassifier()\n",
    "estimators.append(('AdaBoost', model1))\n",
    "model2 = GradientBoostingClassifier()\n",
    "estimators.append(('GradientBoosting', model2))\n",
    "model3 = RandomForestClassifier()\n",
    "estimators.append(('RandomForest', model3))\n",
    "ensemble = VotingClassifier(estimators)\n",
    "ensemble.fit(X_train, Y_train)\n",
    "\n",
    "# Predict using the ensemble model\n",
    "y_test_pred = ensemble.predict(X_Test)\n",
    "\n",
    "# Test-Score-Calculations\n",
    "model_accuracy = accuracy_score(Y_Test, y_test_pred)\n",
    "model_f1 = f1_score(Y_Test, y_test_pred, average='weighted')\n",
    "model_precision = precision_score(Y_Test, y_test_pred)\n",
    "model_recall = recall_score(Y_Test, y_test_pred)\n",
    "\n",
    "print(\"Ensemble model performance for the test set\")\n",
    "print(\"accuracy: {:.4f}\".format(model_accuracy))\n",
    "print('f1 score: {:.4f}'.format(model_f1))\n",
    "print('precision: {:.4f}'.format(model_precision))\n",
    "print('recall: {:.4f}'.format(model_recall))"
   ]
  }
 ],
 "metadata": {
  "kernelspec": {
   "display_name": "Python 3",
   "language": "python",
   "name": "python3"
  },
  "language_info": {
   "codemirror_mode": {
    "name": "ipython",
    "version": 3
   },
   "file_extension": ".py",
   "mimetype": "text/x-python",
   "name": "python",
   "nbconvert_exporter": "python",
   "pygments_lexer": "ipython3",
   "version": "3.11.2"
  }
 },
 "nbformat": 4,
 "nbformat_minor": 2
}
